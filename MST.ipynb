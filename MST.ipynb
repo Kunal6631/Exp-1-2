{
  "nbformat": 4,
  "nbformat_minor": 0,
  "metadata": {
    "colab": {
      "provenance": [],
      "authorship_tag": "ABX9TyOoX1EYAAxQRcLaxciVScer",
      "include_colab_link": true
    },
    "kernelspec": {
      "name": "python3",
      "display_name": "Python 3"
    },
    "language_info": {
      "name": "python"
    }
  },
  "cells": [
    {
      "cell_type": "markdown",
      "metadata": {
        "id": "view-in-github",
        "colab_type": "text"
      },
      "source": [
        "<a href=\"https://colab.research.google.com/github/Kunal6631/Exp-1-2/blob/main/MST.ipynb\" target=\"_parent\"><img src=\"https://colab.research.google.com/assets/colab-badge.svg\" alt=\"Open In Colab\"/></a>"
      ]
    },
    {
      "cell_type": "code",
      "source": [
        "import nltk\n",
        "from nltk.tokenize import word_tokenize\n",
        "from nltk.tag import pos_tag\n",
        "from nltk.chunk import ne_chunk\n",
        "\n",
        "# Download necessary NLTK corpora and modules\n",
        "nltk.download('punkt')\n",
        "nltk.download('averaged_perceptron_tagger')\n",
        "nltk.download('maxent_ne_chunker')\n",
        "nltk.download('words')\n",
        "\n",
        "# Read the story from the text file\n",
        "with open('/content/story.txt', 'r') as file:\n",
        "    story = file.read()\n",
        "\n",
        "# Tokenize the story\n",
        "tokens = word_tokenize(story)\n",
        "\n",
        "# Perform Part-of-Speech (POS) tagging\n",
        "tagged = pos_tag(tokens)\n",
        "\n",
        "# Perform Named Entity Recognition (NER)\n",
        "named_entities = ne_chunk(tagged)\n",
        "\n",
        "# Function to extract main character entities (PERSON)\n",
        "def extract_main_characters(named_entities):\n",
        "    main_characters = []\n",
        "    for chunk in named_entities:\n",
        "        if hasattr(chunk, 'label') and chunk.label() == 'PERSON':\n",
        "            entity = ' '.join(c[0] for c in chunk.leaves())\n",
        "            main_characters.append(entity)\n",
        "        elif isinstance(chunk, tuple) and chunk[1] == 'NNP':\n",
        "            main_characters.append(chunk[0])\n",
        "    return main_characters\n",
        "\n",
        "# Extract main character entities from the story\n",
        "main_characters = extract_main_characters(named_entities)\n",
        "\n",
        "# Print main character entities\n",
        "print(\"Main Characters:\")\n",
        "for character in main_characters:\n",
        "    print(\"-\", character)\n"
      ],
      "metadata": {
        "colab": {
          "base_uri": "https://localhost:8080/"
        },
        "id": "2iqmjMy6wNgo",
        "outputId": "b189cd58-b86d-43a5-c7a5-3b27ef9be3fe"
      },
      "execution_count": 4,
      "outputs": [
        {
          "output_type": "stream",
          "name": "stdout",
          "text": [
            "Main Characters:\n",
            "- Ethan\n",
            "- Ethan\n",
            "- Ethan\n",
            "- Birds\n",
            "- Ethan\n",
            "- Undeterred\n",
            "- Ethan\n",
            "- Ethan\n",
            "- Ethan\n",
            "- Time\n",
            "- Ethan\n",
            "- Ethan\n",
            "- Armed\n",
            "- Ethan\n"
          ]
        },
        {
          "output_type": "stream",
          "name": "stderr",
          "text": [
            "[nltk_data] Downloading package punkt to /root/nltk_data...\n",
            "[nltk_data]   Package punkt is already up-to-date!\n",
            "[nltk_data] Downloading package averaged_perceptron_tagger to\n",
            "[nltk_data]     /root/nltk_data...\n",
            "[nltk_data]   Package averaged_perceptron_tagger is already up-to-\n",
            "[nltk_data]       date!\n",
            "[nltk_data] Downloading package maxent_ne_chunker to\n",
            "[nltk_data]     /root/nltk_data...\n",
            "[nltk_data]   Package maxent_ne_chunker is already up-to-date!\n",
            "[nltk_data] Downloading package words to /root/nltk_data...\n",
            "[nltk_data]   Package words is already up-to-date!\n"
          ]
        }
      ]
    }
  ]
}